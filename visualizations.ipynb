{
 "cells": [
  {
   "cell_type": "code",
   "execution_count": null,
   "metadata": {
    "collapsed": false
   },
   "outputs": [],
   "source": [
    "import pandas as pd\n",
    "from matplotlib import pyplot as plt\n",
    "import seaborn as sns"
   ]
  },
  {
   "cell_type": "code",
   "execution_count": null,
   "metadata": {
    "collapsed": false
   },
   "outputs": [],
   "source": [
    "#Load gene density data\n",
    "gene_density = pd.read_csv(\"geneDensity.csv\")\n",
    "\n",
    "#Load LTR density data\n",
    "ltr_density = pd.read_csv(\"ltrDensity.csv\")\n",
    "\n",
    "#Load LTR age data\n",
    "ltr_age = pd.read_csv(\"ltrAge.csv\")\n"
   ]
  },
  {
   "cell_type": "code",
   "execution_count": null,
   "metadata": {
    "collapsed": false
   },
   "outputs": [],
   "source": [
    "# Hstogram of gene density dataset\n",
    "plt.figure(figsize=(8,6))\n",
    "sns.histplot(gene_density['density'], bins = 20, color = 'blue', kde = True)\n",
    "plt.title('Histogram of Gene Density')\n",
    "plt.xlabel('Gene Density')\n",
    "plt.ylabel('Frequency')\n",
    "plt.show()"
   ]
  },
  {
   "cell_type": "code",
   "execution_count": null,
   "metadata": {
    "collapsed": false
   },
   "outputs": [],
   "source": [
    "#Histogram of LTR density\n",
    "plt.figure(figsize=(8,6))\n",
    "sns.histplot(ltr_density['density'], bins=20, color = 'green', kde = True)\n",
    "plt.title('Histogram of LTR Density')\n",
    "plt.xlabel('LTR Density')\n",
    "plt.ylabel('Frequency')\n",
    "plt.show()"
   ]
  },
  {
   "cell_type": "code",
   "execution_count": null,
   "metadata": {
    "collapsed": false
   },
   "outputs": [],
   "source": [
    "# Bar plot of LTR age\n",
    "plt.figure(figsize=(10,6))\n",
    "sns.barplot(data = ltr_age, x = 'chrom', y = 'K2P', color = \"pink\")\n",
    "plt.title('Average LTR Age by Chromosome')\n",
    "plt.xlabel('Chromosome')\n",
    "plt.ylabel('Mean LTR Age')\n",
    "plt.show()"
   ]
  },
  {
   "cell_type": "code",
   "execution_count": null,
   "metadata": {
    "collapsed": false
   },
   "outputs": [],
   "source": [
    "# looking at summary statistics of chromosomes in gene density. \n",
    "gene_density_summary = gene_density.groupby('chromosome')['density'].describe()\n",
    "\n",
    "print(\"Gene Density:\")\n",
    "print(gene_density_summary)\n",
    "\n",
    "ltr_density_summary = ltr_density.groupby('chromosome')['density'].describe()\n",
    "\n",
    "print(\"LTR Density:\")\n",
    "print(ltr_density_summary)\n",
    "\n",
    "ltr_age_summary = ltr_age.describe()\n",
    "\n",
    "print(\"LTR Age:\")\n",
    "print(ltr_age_summary)"
   ]
  },
  {
   "cell_type": "code",
   "execution_count": null,
   "metadata": {
    "collapsed": false
   },
   "outputs": [],
   "source": [
    "# Plot a scatterplot comparing density from ltr density to the density in our cleaned\n",
    "sns.scatterplot(data = ltr_density, x = \"density\", y = gene_density['density'], hue = \"chromosome\")\n",
    "plt.xlabel(\"LTR Density\")\n",
    "plt.ylabel(\"Gene Density\")\n",
    "plt.title(\"LTR Density vs. Gene Density\")\n",
    "plt.legend(title = \"Chromosome\")\n",
    "plt.show()"
   ]
  },
  {
   "cell_type": "code",
   "execution_count": null,
   "metadata": {
    "collapsed": false
   },
   "outputs": [],
   "source": [
    "# Box plot of LTR age distribution across chromosomes\n",
    "\n",
    "plt.figure(figsize=(8,6))\n",
    "sns.boxplot(data = ltr_age, x = \"chrom\", y = ltr_density['density'])\n",
    "plt.xlabel(\"Chromosome\")\n",
    "plt.ylabel(\"LTR Density\")\n",
    "plt.title(\"LTR Density Distribution Across Chromosomes\")\n",
    "plt.show()"
   ]
  },
  {
   "cell_type": "code",
   "execution_count": null,
   "metadata": {
    "collapsed": false
   },
   "outputs": [],
   "source": [
    "# Scatterplot comparing ltr measure of age (K2P) against gene density!\n",
    "sns.scatterplot(x = ltr_age['K2P'], y = gene_density['density'], hue = gene_density['chromosome'])\n",
    "plt.xlabel('K2P')\n",
    "plt.ylabel('Gene Density')\n",
    "plt.title('K2P vs. Gene Density')\n",
    "plt.show()"
   ]
  }
 ],
 "metadata": {
  "kernelspec": {
   "argv": [
    "/usr/bin/python3",
    "-m",
    "ipykernel",
    "--HistoryManager.enabled=False",
    "--matplotlib=inline",
    "-c",
    "%config InlineBackend.figure_formats = set(['retina'])\nimport matplotlib; matplotlib.rcParams['figure.figsize'] = (12, 7)",
    "-f",
    "{connection_file}"
   ],
   "display_name": "Python 3 (system-wide)",
   "env": {},
   "language": "python",
   "metadata": {
    "cocalc": {
     "description": "Python 3 programming language",
     "priority": 100,
     "url": "https://www.python.org/"
    }
   },
   "name": "python3",
   "resource_dir": "/ext/jupyter/kernels/python3"
  },
  "language_info": {
   "codemirror_mode": {
    "name": "ipython",
    "version": 3
   },
   "file_extension": ".py",
   "mimetype": "text/x-python",
   "name": "python",
   "nbconvert_exporter": "python",
   "pygments_lexer": "ipython3",
   "version": "3.9.6"
  }
 },
 "nbformat": 4,
 "nbformat_minor": 4
}
